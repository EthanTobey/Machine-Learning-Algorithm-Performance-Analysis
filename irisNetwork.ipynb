{
 "cells": [
  {
   "cell_type": "code",
   "execution_count": 2,
   "metadata": {},
   "outputs": [],
   "source": [
    "#Imports\n",
    "import pandas as pd\n",
    "import numpy as np\n",
    "import seaborn as sns\n",
    "from tensorflow import keras\n",
    "from sklearn.preprocessing import LabelEncoder"
   ]
  },
  {
   "cell_type": "markdown",
   "metadata": {},
   "source": [
    "## Set Up Data"
   ]
  },
  {
   "cell_type": "code",
   "execution_count": 3,
   "metadata": {},
   "outputs": [],
   "source": [
    "df = pd.read_csv('irisdata.csv')   #read the CSV\n",
    "\n",
    "#encode Species column data as 0, 1, or 2\n",
    "encoder = LabelEncoder()\n",
    "df['species'] = encoder.fit_transform(df['species'])\n",
    "species_name = encoder.classes_\n",
    "\n",
    "#put into X and Y\n",
    "X = df.drop(columns=['species'])  # get rid of id and species in X data\n",
    "y = df['species']   # the species names only"
   ]
  },
  {
   "cell_type": "markdown",
   "metadata": {},
   "source": [
    "## Divide into Testing and Training Set"
   ]
  },
  {
   "cell_type": "code",
   "execution_count": 10,
   "metadata": {},
   "outputs": [],
   "source": [
    "from sklearn.model_selection import train_test_split\n",
    "\n",
    "#use 30% of total data for test data\n",
    "x_train, x_test, y_train, y_test = train_test_split(X, y, test_size=0.3, shuffle=True)"
   ]
  },
  {
   "cell_type": "markdown",
   "metadata": {},
   "source": [
    "## Scale data values to improve performance speed"
   ]
  },
  {
   "cell_type": "code",
   "execution_count": 11,
   "metadata": {},
   "outputs": [
    {
     "name": "stdout",
     "output_type": "stream",
     "text": [
      "     sepal_length  sepal_width  petal_length  petal_width\n",
      "76            6.8          2.8           4.8          1.4\n",
      "38            4.4          3.0           1.3          0.2\n",
      "140           6.7          3.1           5.6          2.4\n",
      "142           5.8          2.7           5.1          1.9\n",
      "29            4.7          3.2           1.6          0.2\n",
      "[[ 1.07922181 -0.57041496  0.51443881  0.18996379]\n",
      " [-1.73032257 -0.08740229 -1.45900862 -1.37444388]\n",
      " [ 0.96215746  0.15410404  0.96551251  1.49363684]\n",
      " [-0.09142168 -0.8119213   0.68359145  0.84180031]\n",
      " [-1.37912952  0.39561038 -1.28985598 -1.37444388]]\n"
     ]
    }
   ],
   "source": [
    "from sklearn.preprocessing import StandardScaler\n",
    "scaler = StandardScaler()\n",
    "#let's see x before the scaling\n",
    "print(x_train[:5])\n",
    "\n",
    "x_train = scaler.fit_transform(x_train)\n",
    "x_test = scaler.transform(x_test)\n",
    "\n",
    "#and now let's see x after the scaling\n",
    "print(x_train[:5])"
   ]
  },
  {
   "cell_type": "markdown",
   "metadata": {},
   "source": [
    "## Send the encoded classes to a matrix"
   ]
  },
  {
   "cell_type": "code",
   "execution_count": 12,
   "metadata": {},
   "outputs": [],
   "source": [
    "y_train = keras.utils.to_categorical(y_train, num_classes=3)"
   ]
  },
  {
   "cell_type": "markdown",
   "metadata": {},
   "source": [
    "## Define the model"
   ]
  },
  {
   "cell_type": "code",
   "execution_count": 25,
   "metadata": {},
   "outputs": [
    {
     "data": {
      "text/html": [
       "<pre style=\"white-space:pre;overflow-x:auto;line-height:normal;font-family:Menlo,'DejaVu Sans Mono',consolas,'Courier New',monospace\"><span style=\"font-weight: bold\">Model: \"sequential_2\"</span>\n",
       "</pre>\n"
      ],
      "text/plain": [
       "\u001b[1mModel: \"sequential_2\"\u001b[0m\n"
      ]
     },
     "metadata": {},
     "output_type": "display_data"
    },
    {
     "data": {
      "text/html": [
       "<pre style=\"white-space:pre;overflow-x:auto;line-height:normal;font-family:Menlo,'DejaVu Sans Mono',consolas,'Courier New',monospace\">┏━━━━━━━━━━━━━━━━━━━━━━━━━━━━━━━━━┳━━━━━━━━━━━━━━━━━━━━━━━━┳━━━━━━━━━━━━━━━┓\n",
       "┃<span style=\"font-weight: bold\"> Layer (type)                    </span>┃<span style=\"font-weight: bold\"> Output Shape           </span>┃<span style=\"font-weight: bold\">       Param # </span>┃\n",
       "┡━━━━━━━━━━━━━━━━━━━━━━━━━━━━━━━━━╇━━━━━━━━━━━━━━━━━━━━━━━━╇━━━━━━━━━━━━━━━┩\n",
       "│ dense_6 (<span style=\"color: #0087ff; text-decoration-color: #0087ff\">Dense</span>)                 │ (<span style=\"color: #00d7ff; text-decoration-color: #00d7ff\">None</span>, <span style=\"color: #00af00; text-decoration-color: #00af00\">32</span>)             │           <span style=\"color: #00af00; text-decoration-color: #00af00\">160</span> │\n",
       "├─────────────────────────────────┼────────────────────────┼───────────────┤\n",
       "│ dense_7 (<span style=\"color: #0087ff; text-decoration-color: #0087ff\">Dense</span>)                 │ (<span style=\"color: #00d7ff; text-decoration-color: #00d7ff\">None</span>, <span style=\"color: #00af00; text-decoration-color: #00af00\">32</span>)             │         <span style=\"color: #00af00; text-decoration-color: #00af00\">1,056</span> │\n",
       "├─────────────────────────────────┼────────────────────────┼───────────────┤\n",
       "│ dropout_2 (<span style=\"color: #0087ff; text-decoration-color: #0087ff\">Dropout</span>)             │ (<span style=\"color: #00d7ff; text-decoration-color: #00d7ff\">None</span>, <span style=\"color: #00af00; text-decoration-color: #00af00\">32</span>)             │             <span style=\"color: #00af00; text-decoration-color: #00af00\">0</span> │\n",
       "├─────────────────────────────────┼────────────────────────┼───────────────┤\n",
       "│ dense_8 (<span style=\"color: #0087ff; text-decoration-color: #0087ff\">Dense</span>)                 │ (<span style=\"color: #00d7ff; text-decoration-color: #00d7ff\">None</span>, <span style=\"color: #00af00; text-decoration-color: #00af00\">3</span>)              │            <span style=\"color: #00af00; text-decoration-color: #00af00\">99</span> │\n",
       "└─────────────────────────────────┴────────────────────────┴───────────────┘\n",
       "</pre>\n"
      ],
      "text/plain": [
       "┏━━━━━━━━━━━━━━━━━━━━━━━━━━━━━━━━━┳━━━━━━━━━━━━━━━━━━━━━━━━┳━━━━━━━━━━━━━━━┓\n",
       "┃\u001b[1m \u001b[0m\u001b[1mLayer (type)                   \u001b[0m\u001b[1m \u001b[0m┃\u001b[1m \u001b[0m\u001b[1mOutput Shape          \u001b[0m\u001b[1m \u001b[0m┃\u001b[1m \u001b[0m\u001b[1m      Param #\u001b[0m\u001b[1m \u001b[0m┃\n",
       "┡━━━━━━━━━━━━━━━━━━━━━━━━━━━━━━━━━╇━━━━━━━━━━━━━━━━━━━━━━━━╇━━━━━━━━━━━━━━━┩\n",
       "│ dense_6 (\u001b[38;5;33mDense\u001b[0m)                 │ (\u001b[38;5;45mNone\u001b[0m, \u001b[38;5;34m32\u001b[0m)             │           \u001b[38;5;34m160\u001b[0m │\n",
       "├─────────────────────────────────┼────────────────────────┼───────────────┤\n",
       "│ dense_7 (\u001b[38;5;33mDense\u001b[0m)                 │ (\u001b[38;5;45mNone\u001b[0m, \u001b[38;5;34m32\u001b[0m)             │         \u001b[38;5;34m1,056\u001b[0m │\n",
       "├─────────────────────────────────┼────────────────────────┼───────────────┤\n",
       "│ dropout_2 (\u001b[38;5;33mDropout\u001b[0m)             │ (\u001b[38;5;45mNone\u001b[0m, \u001b[38;5;34m32\u001b[0m)             │             \u001b[38;5;34m0\u001b[0m │\n",
       "├─────────────────────────────────┼────────────────────────┼───────────────┤\n",
       "│ dense_8 (\u001b[38;5;33mDense\u001b[0m)                 │ (\u001b[38;5;45mNone\u001b[0m, \u001b[38;5;34m3\u001b[0m)              │            \u001b[38;5;34m99\u001b[0m │\n",
       "└─────────────────────────────────┴────────────────────────┴───────────────┘\n"
      ]
     },
     "metadata": {},
     "output_type": "display_data"
    },
    {
     "data": {
      "text/html": [
       "<pre style=\"white-space:pre;overflow-x:auto;line-height:normal;font-family:Menlo,'DejaVu Sans Mono',consolas,'Courier New',monospace\"><span style=\"font-weight: bold\"> Total params: </span><span style=\"color: #00af00; text-decoration-color: #00af00\">1,315</span> (5.14 KB)\n",
       "</pre>\n"
      ],
      "text/plain": [
       "\u001b[1m Total params: \u001b[0m\u001b[38;5;34m1,315\u001b[0m (5.14 KB)\n"
      ]
     },
     "metadata": {},
     "output_type": "display_data"
    },
    {
     "data": {
      "text/html": [
       "<pre style=\"white-space:pre;overflow-x:auto;line-height:normal;font-family:Menlo,'DejaVu Sans Mono',consolas,'Courier New',monospace\"><span style=\"font-weight: bold\"> Trainable params: </span><span style=\"color: #00af00; text-decoration-color: #00af00\">1,315</span> (5.14 KB)\n",
       "</pre>\n"
      ],
      "text/plain": [
       "\u001b[1m Trainable params: \u001b[0m\u001b[38;5;34m1,315\u001b[0m (5.14 KB)\n"
      ]
     },
     "metadata": {},
     "output_type": "display_data"
    },
    {
     "data": {
      "text/html": [
       "<pre style=\"white-space:pre;overflow-x:auto;line-height:normal;font-family:Menlo,'DejaVu Sans Mono',consolas,'Courier New',monospace\"><span style=\"font-weight: bold\"> Non-trainable params: </span><span style=\"color: #00af00; text-decoration-color: #00af00\">0</span> (0.00 B)\n",
       "</pre>\n"
      ],
      "text/plain": [
       "\u001b[1m Non-trainable params: \u001b[0m\u001b[38;5;34m0\u001b[0m (0.00 B)\n"
      ]
     },
     "metadata": {},
     "output_type": "display_data"
    }
   ],
   "source": [
    "from keras.models import Sequential\n",
    "from keras.layers import Dense, Dropout\n",
    "\n",
    "model = Sequential()\n",
    "\n",
    "#define Input layer\n",
    "model.add(Dense(units=32, activation='relu', input_shape=(x_train.shape[-1], )))\n",
    "\n",
    "#define a hidden layer\n",
    "model.add(Dense(units=32, activation='relu'))\n",
    "\n",
    "#let's add a dropout layer to avoid overfitting\n",
    "model.add(Dropout(0.5))\n",
    "\n",
    "#now let's add the output layer \n",
    "    #units=3 b/c couuld be one of 3 flower types\n",
    "model.add(Dense(units=3, activation='softmax'))\n",
    "\n",
    "\n",
    "#Compile the model\n",
    "model.compile(optimizer='Adam', loss='categorical_crossentropy', metrics=['accuracy'])\n",
    "#let's see the info of our model\n",
    "model.summary()"
   ]
  },
  {
   "cell_type": "markdown",
   "metadata": {},
   "source": [
    "## Now train the model"
   ]
  },
  {
   "cell_type": "code",
   "execution_count": 26,
   "metadata": {},
   "outputs": [
    {
     "name": "stdout",
     "output_type": "stream",
     "text": [
      "Epoch 1/100\n",
      "4/4 - 1s - 133ms/step - accuracy: 0.4667 - loss: 1.1043\n",
      "Epoch 2/100\n",
      "4/4 - 0s - 6ms/step - accuracy: 0.4000 - loss: 1.0949\n",
      "Epoch 3/100\n",
      "4/4 - 0s - 6ms/step - accuracy: 0.4667 - loss: 1.0530\n",
      "Epoch 4/100\n",
      "4/4 - 0s - 6ms/step - accuracy: 0.5524 - loss: 0.9623\n",
      "Epoch 5/100\n",
      "4/4 - 0s - 6ms/step - accuracy: 0.5524 - loss: 0.9692\n",
      "Epoch 6/100\n",
      "4/4 - 0s - 6ms/step - accuracy: 0.5238 - loss: 0.9561\n",
      "Epoch 7/100\n",
      "4/4 - 0s - 6ms/step - accuracy: 0.7333 - loss: 0.8761\n",
      "Epoch 8/100\n",
      "4/4 - 0s - 6ms/step - accuracy: 0.6286 - loss: 0.8459\n",
      "Epoch 9/100\n",
      "4/4 - 0s - 6ms/step - accuracy: 0.6571 - loss: 0.7994\n",
      "Epoch 10/100\n",
      "4/4 - 0s - 8ms/step - accuracy: 0.6762 - loss: 0.7787\n",
      "Epoch 11/100\n",
      "4/4 - 0s - 7ms/step - accuracy: 0.6762 - loss: 0.7373\n",
      "Epoch 12/100\n",
      "4/4 - 0s - 6ms/step - accuracy: 0.6476 - loss: 0.7438\n",
      "Epoch 13/100\n",
      "4/4 - 0s - 6ms/step - accuracy: 0.7048 - loss: 0.7080\n",
      "Epoch 14/100\n",
      "4/4 - 0s - 6ms/step - accuracy: 0.7143 - loss: 0.7013\n",
      "Epoch 15/100\n",
      "4/4 - 0s - 6ms/step - accuracy: 0.7048 - loss: 0.6359\n",
      "Epoch 16/100\n",
      "4/4 - 0s - 6ms/step - accuracy: 0.7333 - loss: 0.6197\n",
      "Epoch 17/100\n",
      "4/4 - 0s - 6ms/step - accuracy: 0.7429 - loss: 0.5975\n",
      "Epoch 18/100\n",
      "4/4 - 0s - 6ms/step - accuracy: 0.7619 - loss: 0.6355\n",
      "Epoch 19/100\n",
      "4/4 - 0s - 6ms/step - accuracy: 0.7524 - loss: 0.5595\n",
      "Epoch 20/100\n",
      "4/4 - 0s - 6ms/step - accuracy: 0.7143 - loss: 0.6079\n",
      "Epoch 21/100\n",
      "4/4 - 0s - 6ms/step - accuracy: 0.7524 - loss: 0.5448\n",
      "Epoch 22/100\n",
      "4/4 - 0s - 6ms/step - accuracy: 0.7619 - loss: 0.5491\n",
      "Epoch 23/100\n",
      "4/4 - 0s - 6ms/step - accuracy: 0.7810 - loss: 0.5066\n",
      "Epoch 24/100\n",
      "4/4 - 0s - 6ms/step - accuracy: 0.7905 - loss: 0.4725\n",
      "Epoch 25/100\n",
      "4/4 - 0s - 6ms/step - accuracy: 0.7905 - loss: 0.4893\n",
      "Epoch 26/100\n",
      "4/4 - 0s - 6ms/step - accuracy: 0.8190 - loss: 0.4665\n",
      "Epoch 27/100\n",
      "4/4 - 0s - 6ms/step - accuracy: 0.7905 - loss: 0.4830\n",
      "Epoch 28/100\n",
      "4/4 - 0s - 6ms/step - accuracy: 0.8190 - loss: 0.4364\n",
      "Epoch 29/100\n",
      "4/4 - 0s - 6ms/step - accuracy: 0.8095 - loss: 0.4311\n",
      "Epoch 30/100\n",
      "4/4 - 0s - 6ms/step - accuracy: 0.8286 - loss: 0.4299\n",
      "Epoch 31/100\n",
      "4/4 - 0s - 6ms/step - accuracy: 0.8190 - loss: 0.4023\n",
      "Epoch 32/100\n",
      "4/4 - 0s - 6ms/step - accuracy: 0.8095 - loss: 0.3987\n",
      "Epoch 33/100\n",
      "4/4 - 0s - 6ms/step - accuracy: 0.8190 - loss: 0.4267\n",
      "Epoch 34/100\n",
      "4/4 - 0s - 6ms/step - accuracy: 0.8381 - loss: 0.4266\n",
      "Epoch 35/100\n",
      "4/4 - 0s - 6ms/step - accuracy: 0.8286 - loss: 0.4035\n",
      "Epoch 36/100\n",
      "4/4 - 0s - 6ms/step - accuracy: 0.8667 - loss: 0.3851\n",
      "Epoch 37/100\n",
      "4/4 - 0s - 6ms/step - accuracy: 0.8571 - loss: 0.3756\n",
      "Epoch 38/100\n",
      "4/4 - 0s - 6ms/step - accuracy: 0.8571 - loss: 0.3808\n",
      "Epoch 39/100\n",
      "4/4 - 0s - 6ms/step - accuracy: 0.8952 - loss: 0.3307\n",
      "Epoch 40/100\n",
      "4/4 - 0s - 6ms/step - accuracy: 0.8476 - loss: 0.3574\n",
      "Epoch 41/100\n",
      "4/4 - 0s - 6ms/step - accuracy: 0.8762 - loss: 0.3265\n",
      "Epoch 42/100\n",
      "4/4 - 0s - 6ms/step - accuracy: 0.8190 - loss: 0.3662\n",
      "Epoch 43/100\n",
      "4/4 - 0s - 6ms/step - accuracy: 0.8667 - loss: 0.3506\n",
      "Epoch 44/100\n",
      "4/4 - 0s - 6ms/step - accuracy: 0.8571 - loss: 0.3563\n",
      "Epoch 45/100\n",
      "4/4 - 0s - 6ms/step - accuracy: 0.8381 - loss: 0.3307\n",
      "Epoch 46/100\n",
      "4/4 - 0s - 6ms/step - accuracy: 0.8952 - loss: 0.3119\n",
      "Epoch 47/100\n",
      "4/4 - 0s - 6ms/step - accuracy: 0.8952 - loss: 0.3050\n",
      "Epoch 48/100\n",
      "4/4 - 0s - 6ms/step - accuracy: 0.8857 - loss: 0.3042\n",
      "Epoch 49/100\n",
      "4/4 - 0s - 6ms/step - accuracy: 0.8762 - loss: 0.3126\n",
      "Epoch 50/100\n",
      "4/4 - 0s - 6ms/step - accuracy: 0.8667 - loss: 0.3231\n",
      "Epoch 51/100\n",
      "4/4 - 0s - 6ms/step - accuracy: 0.9048 - loss: 0.2863\n",
      "Epoch 52/100\n",
      "4/4 - 0s - 6ms/step - accuracy: 0.9048 - loss: 0.2800\n",
      "Epoch 53/100\n",
      "4/4 - 0s - 6ms/step - accuracy: 0.8857 - loss: 0.2651\n",
      "Epoch 54/100\n",
      "4/4 - 0s - 6ms/step - accuracy: 0.8952 - loss: 0.2741\n",
      "Epoch 55/100\n",
      "4/4 - 0s - 6ms/step - accuracy: 0.8857 - loss: 0.2972\n",
      "Epoch 56/100\n",
      "4/4 - 0s - 6ms/step - accuracy: 0.9048 - loss: 0.2963\n",
      "Epoch 57/100\n",
      "4/4 - 0s - 6ms/step - accuracy: 0.9333 - loss: 0.2639\n",
      "Epoch 58/100\n",
      "4/4 - 0s - 6ms/step - accuracy: 0.9238 - loss: 0.2554\n",
      "Epoch 59/100\n",
      "4/4 - 0s - 6ms/step - accuracy: 0.9048 - loss: 0.2521\n",
      "Epoch 60/100\n",
      "4/4 - 0s - 6ms/step - accuracy: 0.9333 - loss: 0.2423\n",
      "Epoch 61/100\n",
      "4/4 - 0s - 6ms/step - accuracy: 0.9333 - loss: 0.2202\n",
      "Epoch 62/100\n",
      "4/4 - 0s - 6ms/step - accuracy: 0.8857 - loss: 0.2433\n",
      "Epoch 63/100\n",
      "4/4 - 0s - 6ms/step - accuracy: 0.9143 - loss: 0.2403\n",
      "Epoch 64/100\n",
      "4/4 - 0s - 6ms/step - accuracy: 0.9048 - loss: 0.2656\n",
      "Epoch 65/100\n",
      "4/4 - 0s - 6ms/step - accuracy: 0.9333 - loss: 0.2204\n",
      "Epoch 66/100\n",
      "4/4 - 0s - 6ms/step - accuracy: 0.9429 - loss: 0.2282\n",
      "Epoch 67/100\n",
      "4/4 - 0s - 6ms/step - accuracy: 0.9429 - loss: 0.2181\n",
      "Epoch 68/100\n",
      "4/4 - 0s - 6ms/step - accuracy: 0.9143 - loss: 0.2125\n",
      "Epoch 69/100\n",
      "4/4 - 0s - 6ms/step - accuracy: 0.9238 - loss: 0.2151\n",
      "Epoch 70/100\n",
      "4/4 - 0s - 6ms/step - accuracy: 0.9429 - loss: 0.1992\n",
      "Epoch 71/100\n",
      "4/4 - 0s - 6ms/step - accuracy: 0.9714 - loss: 0.1687\n",
      "Epoch 72/100\n",
      "4/4 - 0s - 6ms/step - accuracy: 0.9333 - loss: 0.1988\n",
      "Epoch 73/100\n",
      "4/4 - 0s - 6ms/step - accuracy: 0.9524 - loss: 0.2118\n",
      "Epoch 74/100\n",
      "4/4 - 0s - 6ms/step - accuracy: 0.9238 - loss: 0.2079\n",
      "Epoch 75/100\n",
      "4/4 - 0s - 6ms/step - accuracy: 0.9333 - loss: 0.1875\n",
      "Epoch 76/100\n",
      "4/4 - 0s - 6ms/step - accuracy: 0.9333 - loss: 0.1999\n",
      "Epoch 77/100\n",
      "4/4 - 0s - 6ms/step - accuracy: 0.9333 - loss: 0.1817\n",
      "Epoch 78/100\n",
      "4/4 - 0s - 6ms/step - accuracy: 0.9429 - loss: 0.1962\n",
      "Epoch 79/100\n",
      "4/4 - 0s - 6ms/step - accuracy: 0.9333 - loss: 0.1920\n",
      "Epoch 80/100\n",
      "4/4 - 0s - 6ms/step - accuracy: 0.9619 - loss: 0.1809\n",
      "Epoch 81/100\n",
      "4/4 - 0s - 6ms/step - accuracy: 0.9429 - loss: 0.1844\n",
      "Epoch 82/100\n",
      "4/4 - 0s - 6ms/step - accuracy: 0.9238 - loss: 0.1791\n",
      "Epoch 83/100\n",
      "4/4 - 0s - 6ms/step - accuracy: 0.9524 - loss: 0.1609\n",
      "Epoch 84/100\n",
      "4/4 - 0s - 6ms/step - accuracy: 0.9619 - loss: 0.1523\n",
      "Epoch 85/100\n",
      "4/4 - 0s - 6ms/step - accuracy: 0.9333 - loss: 0.1592\n",
      "Epoch 86/100\n",
      "4/4 - 0s - 6ms/step - accuracy: 0.9524 - loss: 0.1730\n",
      "Epoch 87/100\n",
      "4/4 - 0s - 6ms/step - accuracy: 0.9429 - loss: 0.1713\n",
      "Epoch 88/100\n",
      "4/4 - 0s - 6ms/step - accuracy: 0.9429 - loss: 0.1829\n",
      "Epoch 89/100\n",
      "4/4 - 0s - 6ms/step - accuracy: 0.9619 - loss: 0.1453\n",
      "Epoch 90/100\n",
      "4/4 - 0s - 6ms/step - accuracy: 0.9810 - loss: 0.1210\n",
      "Epoch 91/100\n",
      "4/4 - 0s - 6ms/step - accuracy: 0.9619 - loss: 0.1374\n",
      "Epoch 92/100\n",
      "4/4 - 0s - 6ms/step - accuracy: 0.9619 - loss: 0.1404\n",
      "Epoch 93/100\n",
      "4/4 - 0s - 6ms/step - accuracy: 0.9429 - loss: 0.1689\n",
      "Epoch 94/100\n",
      "4/4 - 0s - 6ms/step - accuracy: 0.9238 - loss: 0.1704\n",
      "Epoch 95/100\n",
      "4/4 - 0s - 6ms/step - accuracy: 0.9524 - loss: 0.1504\n",
      "Epoch 96/100\n",
      "4/4 - 0s - 6ms/step - accuracy: 0.9429 - loss: 0.1560\n",
      "Epoch 97/100\n",
      "4/4 - 0s - 6ms/step - accuracy: 0.9714 - loss: 0.1321\n",
      "Epoch 98/100\n",
      "4/4 - 0s - 6ms/step - accuracy: 0.9333 - loss: 0.1357\n",
      "Epoch 99/100\n",
      "4/4 - 0s - 6ms/step - accuracy: 0.9429 - loss: 0.1316\n",
      "Epoch 100/100\n",
      "4/4 - 0s - 5ms/step - accuracy: 0.9619 - loss: 0.1354\n"
     ]
    }
   ],
   "source": [
    "#epochs is how many training passes to do over entire training set\n",
    "history = model.fit(x_train, y_train, epochs=100, verbose=2)   #record the outputs for graphing later"
   ]
  },
  {
   "cell_type": "markdown",
   "metadata": {},
   "source": [
    "# Now lets use our test dataset to check our model"
   ]
  },
  {
   "cell_type": "code",
   "execution_count": 27,
   "metadata": {},
   "outputs": [
    {
     "name": "stdout",
     "output_type": "stream",
     "text": [
      "\u001b[1m2/2\u001b[0m \u001b[32m━━━━━━━━━━━━━━━━━━━━\u001b[0m\u001b[37m\u001b[0m \u001b[1m0s\u001b[0m 21ms/step\n",
      "Prediction: [0 0 0 0 2]\n",
      "Real values:\n",
      " 37     0\n",
      "11     0\n",
      "35     0\n",
      "10     0\n",
      "149    2\n",
      "Name: species, dtype: int64\n"
     ]
    }
   ],
   "source": [
    "#make predictions with our model about the test data\n",
    "prediction = model.predict(x_test)\n",
    "\n",
    "#convert the predictions from matrix of percentage likelihoods for each class\n",
    "#into numerical class value for each x (0, 1, or 2)\n",
    "prediction = np.argmax(prediction, axis=-1)\n",
    "\n",
    "#let's see some of our predictions compared to the real values\n",
    "print(\"Prediction:\", prediction[:5])\n",
    "print (\"Real values:\\n\", y_test[:5])"
   ]
  },
  {
   "cell_type": "markdown",
   "metadata": {},
   "source": [
    "## Let's check some analysis of how well the model performs"
   ]
  },
  {
   "cell_type": "code",
   "execution_count": 28,
   "metadata": {},
   "outputs": [
    {
     "name": "stdout",
     "output_type": "stream",
     "text": [
      "Accuracy Score: 1.0\n",
      "Confusion Matrix:\n",
      " [[17  0  0]\n",
      " [ 0 19  0]\n",
      " [ 0  0  9]]\n"
     ]
    },
    {
     "data": {
      "text/plain": [
       "Text(50.722222222222214, 0.5, 'Actual')"
      ]
     },
     "execution_count": 28,
     "metadata": {},
     "output_type": "execute_result"
    },
    {
     "data": {
      "image/png": "[encoded data removed]",
      "text/plain": [
       "<Figure size 640x480 with 2 Axes>"
      ]
     },
     "metadata": {},
     "output_type": "display_data"
    }
   ],
   "source": [
    "from sklearn.metrics import accuracy_score, confusion_matrix\n",
    "\n",
    "#get accuracy score\n",
    "print(\"Accuracy Score:\", accuracy_score(y_test, prediction))\n",
    "\n",
    "#get confusion matrix\n",
    "cm = confusion_matrix(y_test, prediction)\n",
    "print(\"Confusion Matrix:\\n\", cm)\n",
    "\n",
    "#make a heatmap of confusion matrix predictions\n",
    "ax = sns.heatmap(cm, annot=True, fmt='d', cmap='Reds', xticklabels=species_name, yticklabels=species_name)\n",
    "ax.set_title('Confusion Matrix for Iris Data Predictions')\n",
    "ax.set_xlabel('Prediction', fontsize=14)\n",
    "ax.set_ylabel('Actual', fontsize=14)"
   ]
  },
  {
   "cell_type": "markdown",
   "metadata": {},
   "source": [
    "## Convergence graph from training"
   ]
  },
  {
   "cell_type": "code",
   "execution_count": null,
   "metadata": {},
   "outputs": [
    {
     "data": {
      "image/png": "[encoded data removed]",
      "text/plain": [
       "<Figure size 1000x600 with 1 Axes>"
      ]
     },
     "metadata": {},
     "output_type": "display_data"
    }
   ],
   "source": [
    "import matplotlib.pyplot as plt\n",
    "\n",
    "history_df = pd.DataFrame(history.history)\n",
    "history_df['epoch'] = range(1, len(history_df) + 1)   #set up history data frame for plotting\n",
    "\n",
    "#Make training convergence graph\n",
    "plt.figure(figsize=(10, 6))\n",
    "\n",
    "# Plot training loss\n",
    "sns.lineplot(x='epoch', y='loss', data=history_df, label='Training Loss', color='blue')\n",
    "\n",
    "# Add labels and title\n",
    "plt.title('Training Convergence', fontsize=16)\n",
    "plt.xlabel('Epochs', fontsize=14)\n",
    "plt.ylabel('Loss (Objective Function)', fontsize=14)\n",
    "plt.legend(title='Loss Type')\n",
    "\n",
    "# Show the plot\n",
    "plt.show()"
   ]
  }
 ],
 "metadata": {
  "kernelspec": {
   "display_name": "Python 3",
   "language": "python",
   "name": "python3"
  },
  "language_info": {
   "codemirror_mode": {
    "name": "ipython",
    "version": 3
   },
   "file_extension": ".py",
   "mimetype": "text/x-python",
   "name": "python",
   "nbconvert_exporter": "python",
   "pygments_lexer": "ipython3",
   "version": "3.12.3"
  }
 },
 "nbformat": 4,
 "nbformat_minor": 2
}

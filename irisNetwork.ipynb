{
 "cells": [
  {
   "cell_type": "code",
   "execution_count": 1,
   "metadata": {},
   "outputs": [],
   "source": [
    "#Imports\n",
    "import pandas as pd\n",
    "import numpy as np\n",
    "import seaborn as sns\n",
    "from tensorflow import keras\n",
    "from sklearn.preprocessing import LabelEncoder"
   ]
  },
  {
   "cell_type": "markdown",
   "metadata": {},
   "source": [
    "## Set Up Data"
   ]
  },
  {
   "cell_type": "code",
   "execution_count": 55,
   "metadata": {},
   "outputs": [],
   "source": [
    "df = pd.read_csv('irisdata.csv')   #read the CSV\n",
    "\n",
    "#encode Species column data as 0, 1, or 2\n",
    "encoder = LabelEncoder()\n",
    "df['species'] = encoder.fit_transform(df['species'])\n",
    "species_name = encoder.classes_\n",
    "\n",
    "#put into X and Y\n",
    "X = df.drop(columns=['species'])  # get rid of id and species in X data\n",
    "y = df['species']   # the species names only"
   ]
  },
  {
   "cell_type": "markdown",
   "metadata": {},
   "source": [
    "## Divide into Testing and Training Set"
   ]
  },
  {
   "cell_type": "code",
   "execution_count": 25,
   "metadata": {},
   "outputs": [],
   "source": [
    "from sklearn.model_selection import train_test_split\n",
    "\n",
    "#use 30% of total data for test data\n",
    "x_train, x_test, y_train, y_test = train_test_split(X, y, test_size=0.3, shuffle=True)"
   ]
  },
  {
   "cell_type": "markdown",
   "metadata": {},
   "source": [
    "## Now, we should scale our data values to improve performance speed"
   ]
  },
  {
   "cell_type": "code",
   "execution_count": 26,
   "metadata": {},
   "outputs": [
    {
     "name": "stdout",
     "output_type": "stream",
     "text": [
      "     sepal_length  sepal_width  petal_length  petal_width\n",
      "89            5.5          2.5           4.0          1.3\n",
      "149           5.9          3.0           5.1          1.8\n",
      "98            5.1          2.5           3.0          1.1\n",
      "144           6.7          3.3           5.7          2.5\n",
      "17            5.1          3.5           1.4          0.3\n",
      "[[-0.47215566 -1.28450144  0.08683361  0.07509569]\n",
      " [ 0.02237147 -0.17717261  0.71760607  0.73218298]\n",
      " [-0.96668279 -1.28450144 -0.48659589 -0.18773923]\n",
      " [ 1.01142572  0.48722468  1.06166377  1.65210519]\n",
      " [-0.96668279  0.93015621 -1.4040831  -1.2390789 ]]\n"
     ]
    }
   ],
   "source": [
    "from sklearn.preprocessing import StandardScaler\n",
    "scaler = StandardScaler()\n",
    "#let's see x before the scaling\n",
    "print(x_train[:5])\n",
    "\n",
    "x_train = scaler.fit_transform(x_train)\n",
    "x_test = scaler.transform(x_test)\n",
    "\n",
    "#and now let's see x after the scaling\n",
    "print(x_train[:5])"
   ]
  },
  {
   "cell_type": "markdown",
   "metadata": {},
   "source": [
    "## We should also send the encoded classes to a matrix"
   ]
  },
  {
   "cell_type": "code",
   "execution_count": null,
   "metadata": {},
   "outputs": [
    {
     "name": "stdout",
     "output_type": "stream",
     "text": [
      "[[0. 1. 0.]\n",
      " [0. 0. 1.]\n",
      " [0. 1. 0.]\n",
      " [0. 0. 1.]\n",
      " [1. 0. 0.]\n",
      " [1. 0. 0.]\n",
      " [0. 0. 1.]\n",
      " [1. 0. 0.]\n",
      " [0. 1. 0.]\n",
      " [1. 0. 0.]\n",
      " [1. 0. 0.]\n",
      " [0. 1. 0.]\n",
      " [0. 0. 1.]\n",
      " [0. 0. 1.]\n",
      " [1. 0. 0.]\n",
      " [0. 0. 1.]\n",
      " [0. 1. 0.]\n",
      " [0. 0. 1.]\n",
      " [0. 1. 0.]\n",
      " [1. 0. 0.]\n",
      " [0. 0. 1.]\n",
      " [0. 0. 1.]\n",
      " [1. 0. 0.]\n",
      " [0. 0. 1.]\n",
      " [0. 0. 1.]\n",
      " [0. 0. 1.]\n",
      " [1. 0. 0.]\n",
      " [0. 1. 0.]\n",
      " [0. 1. 0.]\n",
      " [1. 0. 0.]\n",
      " [0. 1. 0.]\n",
      " [1. 0. 0.]\n",
      " [0. 0. 1.]\n",
      " [1. 0. 0.]\n",
      " [0. 0. 1.]\n",
      " [0. 0. 1.]\n",
      " [0. 1. 0.]\n",
      " [1. 0. 0.]\n",
      " [0. 1. 0.]\n",
      " [1. 0. 0.]\n",
      " [0. 1. 0.]\n",
      " [0. 1. 0.]\n",
      " [1. 0. 0.]\n",
      " [0. 1. 0.]\n",
      " [0. 1. 0.]\n",
      " [0. 1. 0.]\n",
      " [0. 0. 1.]\n",
      " [0. 0. 1.]\n",
      " [1. 0. 0.]\n",
      " [0. 0. 1.]\n",
      " [0. 1. 0.]\n",
      " [1. 0. 0.]\n",
      " [0. 1. 0.]\n",
      " [0. 0. 1.]\n",
      " [1. 0. 0.]\n",
      " [0. 0. 1.]\n",
      " [0. 0. 1.]\n",
      " [0. 0. 1.]\n",
      " [0. 1. 0.]\n",
      " [0. 0. 1.]\n",
      " [0. 1. 0.]\n",
      " [1. 0. 0.]\n",
      " [0. 0. 1.]\n",
      " [1. 0. 0.]\n",
      " [0. 1. 0.]\n",
      " [1. 0. 0.]\n",
      " [0. 1. 0.]\n",
      " [0. 0. 1.]\n",
      " [0. 0. 1.]\n",
      " [1. 0. 0.]\n",
      " [1. 0. 0.]\n",
      " [1. 0. 0.]\n",
      " [0. 0. 1.]\n",
      " [0. 0. 1.]\n",
      " [1. 0. 0.]\n",
      " [1. 0. 0.]\n",
      " [1. 0. 0.]\n",
      " [0. 0. 1.]\n",
      " [0. 1. 0.]\n",
      " [0. 1. 0.]\n",
      " [0. 1. 0.]\n",
      " [0. 0. 1.]\n",
      " [1. 0. 0.]\n",
      " [1. 0. 0.]\n",
      " [0. 0. 1.]\n",
      " [0. 0. 1.]\n",
      " [0. 1. 0.]\n",
      " [1. 0. 0.]\n",
      " [0. 1. 0.]\n",
      " [0. 1. 0.]\n",
      " [0. 1. 0.]\n",
      " [0. 1. 0.]\n",
      " [0. 0. 1.]\n",
      " [1. 0. 0.]\n",
      " [0. 0. 1.]\n",
      " [1. 0. 0.]\n",
      " [0. 0. 1.]\n",
      " [0. 1. 0.]\n",
      " [0. 1. 0.]\n",
      " [0. 1. 0.]\n",
      " [0. 1. 0.]\n",
      " [0. 1. 0.]\n",
      " [1. 0. 0.]\n",
      " [0. 0. 1.]\n",
      " [0. 1. 0.]]\n"
     ]
    }
   ],
   "source": [
    "y_train = keras.utils.to_categorical(y_train, num_classes=3)"
   ]
  },
  {
   "cell_type": "markdown",
   "metadata": {},
   "source": [
    "## Now, let's define the model"
   ]
  },
  {
   "cell_type": "code",
   "execution_count": 38,
   "metadata": {},
   "outputs": [
    {
     "data": {
      "text/html": [
       "<pre style=\"white-space:pre;overflow-x:auto;line-height:normal;font-family:Menlo,'DejaVu Sans Mono',consolas,'Courier New',monospace\"><span style=\"font-weight: bold\">Model: \"sequential_8\"</span>\n",
       "</pre>\n"
      ],
      "text/plain": [
       "\u001b[1mModel: \"sequential_8\"\u001b[0m\n"
      ]
     },
     "metadata": {},
     "output_type": "display_data"
    },
    {
     "data": {
      "text/html": [
       "<pre style=\"white-space:pre;overflow-x:auto;line-height:normal;font-family:Menlo,'DejaVu Sans Mono',consolas,'Courier New',monospace\">┏━━━━━━━━━━━━━━━━━━━━━━━━━━━━━━━━━┳━━━━━━━━━━━━━━━━━━━━━━━━┳━━━━━━━━━━━━━━━┓\n",
       "┃<span style=\"font-weight: bold\"> Layer (type)                    </span>┃<span style=\"font-weight: bold\"> Output Shape           </span>┃<span style=\"font-weight: bold\">       Param # </span>┃\n",
       "┡━━━━━━━━━━━━━━━━━━━━━━━━━━━━━━━━━╇━━━━━━━━━━━━━━━━━━━━━━━━╇━━━━━━━━━━━━━━━┩\n",
       "│ dense_19 (<span style=\"color: #0087ff; text-decoration-color: #0087ff\">Dense</span>)                │ (<span style=\"color: #00d7ff; text-decoration-color: #00d7ff\">None</span>, <span style=\"color: #00af00; text-decoration-color: #00af00\">32</span>)             │           <span style=\"color: #00af00; text-decoration-color: #00af00\">160</span> │\n",
       "├─────────────────────────────────┼────────────────────────┼───────────────┤\n",
       "│ dense_20 (<span style=\"color: #0087ff; text-decoration-color: #0087ff\">Dense</span>)                │ (<span style=\"color: #00d7ff; text-decoration-color: #00d7ff\">None</span>, <span style=\"color: #00af00; text-decoration-color: #00af00\">32</span>)             │         <span style=\"color: #00af00; text-decoration-color: #00af00\">1,056</span> │\n",
       "├─────────────────────────────────┼────────────────────────┼───────────────┤\n",
       "│ dropout_6 (<span style=\"color: #0087ff; text-decoration-color: #0087ff\">Dropout</span>)             │ (<span style=\"color: #00d7ff; text-decoration-color: #00d7ff\">None</span>, <span style=\"color: #00af00; text-decoration-color: #00af00\">32</span>)             │             <span style=\"color: #00af00; text-decoration-color: #00af00\">0</span> │\n",
       "├─────────────────────────────────┼────────────────────────┼───────────────┤\n",
       "│ dense_21 (<span style=\"color: #0087ff; text-decoration-color: #0087ff\">Dense</span>)                │ (<span style=\"color: #00d7ff; text-decoration-color: #00d7ff\">None</span>, <span style=\"color: #00af00; text-decoration-color: #00af00\">3</span>)              │            <span style=\"color: #00af00; text-decoration-color: #00af00\">99</span> │\n",
       "└─────────────────────────────────┴────────────────────────┴───────────────┘\n",
       "</pre>\n"
      ],
      "text/plain": [
       "┏━━━━━━━━━━━━━━━━━━━━━━━━━━━━━━━━━┳━━━━━━━━━━━━━━━━━━━━━━━━┳━━━━━━━━━━━━━━━┓\n",
       "┃\u001b[1m \u001b[0m\u001b[1mLayer (type)                   \u001b[0m\u001b[1m \u001b[0m┃\u001b[1m \u001b[0m\u001b[1mOutput Shape          \u001b[0m\u001b[1m \u001b[0m┃\u001b[1m \u001b[0m\u001b[1m      Param #\u001b[0m\u001b[1m \u001b[0m┃\n",
       "┡━━━━━━━━━━━━━━━━━━━━━━━━━━━━━━━━━╇━━━━━━━━━━━━━━━━━━━━━━━━╇━━━━━━━━━━━━━━━┩\n",
       "│ dense_19 (\u001b[38;5;33mDense\u001b[0m)                │ (\u001b[38;5;45mNone\u001b[0m, \u001b[38;5;34m32\u001b[0m)             │           \u001b[38;5;34m160\u001b[0m │\n",
       "├─────────────────────────────────┼────────────────────────┼───────────────┤\n",
       "│ dense_20 (\u001b[38;5;33mDense\u001b[0m)                │ (\u001b[38;5;45mNone\u001b[0m, \u001b[38;5;34m32\u001b[0m)             │         \u001b[38;5;34m1,056\u001b[0m │\n",
       "├─────────────────────────────────┼────────────────────────┼───────────────┤\n",
       "│ dropout_6 (\u001b[38;5;33mDropout\u001b[0m)             │ (\u001b[38;5;45mNone\u001b[0m, \u001b[38;5;34m32\u001b[0m)             │             \u001b[38;5;34m0\u001b[0m │\n",
       "├─────────────────────────────────┼────────────────────────┼───────────────┤\n",
       "│ dense_21 (\u001b[38;5;33mDense\u001b[0m)                │ (\u001b[38;5;45mNone\u001b[0m, \u001b[38;5;34m3\u001b[0m)              │            \u001b[38;5;34m99\u001b[0m │\n",
       "└─────────────────────────────────┴────────────────────────┴───────────────┘\n"
      ]
     },
     "metadata": {},
     "output_type": "display_data"
    },
    {
     "data": {
      "text/html": [
       "<pre style=\"white-space:pre;overflow-x:auto;line-height:normal;font-family:Menlo,'DejaVu Sans Mono',consolas,'Courier New',monospace\"><span style=\"font-weight: bold\"> Total params: </span><span style=\"color: #00af00; text-decoration-color: #00af00\">1,315</span> (5.14 KB)\n",
       "</pre>\n"
      ],
      "text/plain": [
       "\u001b[1m Total params: \u001b[0m\u001b[38;5;34m1,315\u001b[0m (5.14 KB)\n"
      ]
     },
     "metadata": {},
     "output_type": "display_data"
    },
    {
     "data": {
      "text/html": [
       "<pre style=\"white-space:pre;overflow-x:auto;line-height:normal;font-family:Menlo,'DejaVu Sans Mono',consolas,'Courier New',monospace\"><span style=\"font-weight: bold\"> Trainable params: </span><span style=\"color: #00af00; text-decoration-color: #00af00\">1,315</span> (5.14 KB)\n",
       "</pre>\n"
      ],
      "text/plain": [
       "\u001b[1m Trainable params: \u001b[0m\u001b[38;5;34m1,315\u001b[0m (5.14 KB)\n"
      ]
     },
     "metadata": {},
     "output_type": "display_data"
    },
    {
     "data": {
      "text/html": [
       "<pre style=\"white-space:pre;overflow-x:auto;line-height:normal;font-family:Menlo,'DejaVu Sans Mono',consolas,'Courier New',monospace\"><span style=\"font-weight: bold\"> Non-trainable params: </span><span style=\"color: #00af00; text-decoration-color: #00af00\">0</span> (0.00 B)\n",
       "</pre>\n"
      ],
      "text/plain": [
       "\u001b[1m Non-trainable params: \u001b[0m\u001b[38;5;34m0\u001b[0m (0.00 B)\n"
      ]
     },
     "metadata": {},
     "output_type": "display_data"
    }
   ],
   "source": [
    "from keras.models import Sequential\n",
    "from keras.layers import Dense, Dropout\n",
    "\n",
    "model = Sequential()\n",
    "\n",
    "#define Input layer\n",
    "model.add(Dense(units=32, activation='relu', input_shape=(x_train.shape[-1], )))\n",
    "\n",
    "#define a hidden layer\n",
    "model.add(Dense(units=32, activation='relu'))\n",
    "\n",
    "#let's add a dropout layer to avoid overfitting\n",
    "model.add(Dropout(0.5))\n",
    "\n",
    "#now let's add the output layer \n",
    "    #units=3 b/c couuld be one of 3 flower types\n",
    "model.add(Dense(units=3, activation='softmax'))\n",
    "\n",
    "\n",
    "#Compile the model\n",
    "model.compile(optimizer='Adam', loss='categorical_crossentropy', metrics=['accuracy'])\n",
    "#let's see the info of our model\n",
    "model.summary()"
   ]
  },
  {
   "cell_type": "markdown",
   "metadata": {},
   "source": [
    "## Now train the model"
   ]
  },
  {
   "cell_type": "code",
   "execution_count": 39,
   "metadata": {},
   "outputs": [
    {
     "name": "stdout",
     "output_type": "stream",
     "text": [
      "Epoch 1/100\n",
      "4/4 - 1s - 303ms/step - accuracy: 0.3333 - loss: 1.0530\n",
      "Epoch 2/100\n",
      "4/4 - 0s - 17ms/step - accuracy: 0.4952 - loss: 0.9782\n",
      "Epoch 3/100\n",
      "4/4 - 0s - 14ms/step - accuracy: 0.5048 - loss: 0.9351\n",
      "Epoch 4/100\n",
      "4/4 - 0s - 14ms/step - accuracy: 0.6190 - loss: 0.8525\n",
      "Epoch 5/100\n",
      "4/4 - 0s - 13ms/step - accuracy: 0.6190 - loss: 0.8321\n",
      "Epoch 6/100\n",
      "4/4 - 0s - 12ms/step - accuracy: 0.6762 - loss: 0.7966\n",
      "Epoch 7/100\n",
      "4/4 - 0s - 13ms/step - accuracy: 0.6762 - loss: 0.7574\n",
      "Epoch 8/100\n",
      "4/4 - 0s - 14ms/step - accuracy: 0.7333 - loss: 0.7217\n",
      "Epoch 9/100\n",
      "4/4 - 0s - 13ms/step - accuracy: 0.7238 - loss: 0.6811\n",
      "Epoch 10/100\n",
      "4/4 - 0s - 13ms/step - accuracy: 0.7619 - loss: 0.6427\n",
      "Epoch 11/100\n",
      "4/4 - 0s - 13ms/step - accuracy: 0.7810 - loss: 0.6654\n",
      "Epoch 12/100\n",
      "4/4 - 0s - 13ms/step - accuracy: 0.7810 - loss: 0.6205\n",
      "Epoch 13/100\n",
      "4/4 - 0s - 13ms/step - accuracy: 0.7810 - loss: 0.6102\n",
      "Epoch 14/100\n",
      "4/4 - 0s - 15ms/step - accuracy: 0.7905 - loss: 0.5899\n",
      "Epoch 15/100\n",
      "4/4 - 0s - 13ms/step - accuracy: 0.7810 - loss: 0.5778\n",
      "Epoch 16/100\n",
      "4/4 - 0s - 13ms/step - accuracy: 0.8095 - loss: 0.5570\n",
      "Epoch 17/100\n",
      "4/4 - 0s - 14ms/step - accuracy: 0.8190 - loss: 0.5621\n",
      "Epoch 18/100\n",
      "4/4 - 0s - 13ms/step - accuracy: 0.8000 - loss: 0.5548\n",
      "Epoch 19/100\n",
      "4/4 - 0s - 14ms/step - accuracy: 0.8571 - loss: 0.5105\n",
      "Epoch 20/100\n",
      "4/4 - 0s - 14ms/step - accuracy: 0.8381 - loss: 0.5095\n",
      "Epoch 21/100\n",
      "4/4 - 0s - 13ms/step - accuracy: 0.8095 - loss: 0.4587\n",
      "Epoch 22/100\n",
      "4/4 - 0s - 13ms/step - accuracy: 0.8667 - loss: 0.4918\n",
      "Epoch 23/100\n",
      "4/4 - 0s - 13ms/step - accuracy: 0.8190 - loss: 0.4507\n",
      "Epoch 24/100\n",
      "4/4 - 0s - 13ms/step - accuracy: 0.8190 - loss: 0.4725\n",
      "Epoch 25/100\n",
      "4/4 - 0s - 13ms/step - accuracy: 0.8286 - loss: 0.4441\n",
      "Epoch 26/100\n",
      "4/4 - 0s - 14ms/step - accuracy: 0.8381 - loss: 0.4600\n",
      "Epoch 27/100\n",
      "4/4 - 0s - 14ms/step - accuracy: 0.8762 - loss: 0.4055\n",
      "Epoch 28/100\n",
      "4/4 - 0s - 13ms/step - accuracy: 0.8286 - loss: 0.4544\n",
      "Epoch 29/100\n",
      "4/4 - 0s - 13ms/step - accuracy: 0.8286 - loss: 0.4234\n",
      "Epoch 30/100\n",
      "4/4 - 0s - 14ms/step - accuracy: 0.8667 - loss: 0.4001\n",
      "Epoch 31/100\n",
      "4/4 - 0s - 15ms/step - accuracy: 0.8667 - loss: 0.4161\n",
      "Epoch 32/100\n",
      "4/4 - 0s - 15ms/step - accuracy: 0.8476 - loss: 0.4220\n",
      "Epoch 33/100\n",
      "4/4 - 0s - 21ms/step - accuracy: 0.8095 - loss: 0.4204\n",
      "Epoch 34/100\n",
      "4/4 - 0s - 13ms/step - accuracy: 0.8762 - loss: 0.3789\n",
      "Epoch 35/100\n",
      "4/4 - 0s - 13ms/step - accuracy: 0.8476 - loss: 0.3789\n",
      "Epoch 36/100\n",
      "4/4 - 0s - 12ms/step - accuracy: 0.8762 - loss: 0.3781\n",
      "Epoch 37/100\n",
      "4/4 - 0s - 13ms/step - accuracy: 0.8476 - loss: 0.3530\n",
      "Epoch 38/100\n",
      "4/4 - 0s - 12ms/step - accuracy: 0.8381 - loss: 0.3646\n",
      "Epoch 39/100\n",
      "4/4 - 0s - 14ms/step - accuracy: 0.8667 - loss: 0.3820\n",
      "Epoch 40/100\n",
      "4/4 - 0s - 14ms/step - accuracy: 0.8667 - loss: 0.3545\n",
      "Epoch 41/100\n",
      "4/4 - 0s - 15ms/step - accuracy: 0.8857 - loss: 0.3440\n",
      "Epoch 42/100\n",
      "4/4 - 0s - 13ms/step - accuracy: 0.8857 - loss: 0.3273\n",
      "Epoch 43/100\n",
      "4/4 - 0s - 14ms/step - accuracy: 0.9048 - loss: 0.2987\n",
      "Epoch 44/100\n",
      "4/4 - 0s - 15ms/step - accuracy: 0.8571 - loss: 0.3284\n",
      "Epoch 45/100\n",
      "4/4 - 0s - 17ms/step - accuracy: 0.8381 - loss: 0.3573\n",
      "Epoch 46/100\n",
      "4/4 - 0s - 13ms/step - accuracy: 0.8952 - loss: 0.3225\n",
      "Epoch 47/100\n",
      "4/4 - 0s - 13ms/step - accuracy: 0.8857 - loss: 0.3001\n",
      "Epoch 48/100\n",
      "4/4 - 0s - 12ms/step - accuracy: 0.8762 - loss: 0.3037\n",
      "Epoch 49/100\n",
      "4/4 - 0s - 14ms/step - accuracy: 0.8571 - loss: 0.2916\n",
      "Epoch 50/100\n",
      "4/4 - 0s - 14ms/step - accuracy: 0.9333 - loss: 0.2376\n",
      "Epoch 51/100\n",
      "4/4 - 0s - 16ms/step - accuracy: 0.8667 - loss: 0.3060\n",
      "Epoch 52/100\n",
      "4/4 - 0s - 14ms/step - accuracy: 0.9429 - loss: 0.2477\n",
      "Epoch 53/100\n",
      "4/4 - 0s - 14ms/step - accuracy: 0.8952 - loss: 0.3087\n",
      "Epoch 54/100\n",
      "4/4 - 0s - 13ms/step - accuracy: 0.8952 - loss: 0.2981\n",
      "Epoch 55/100\n",
      "4/4 - 0s - 13ms/step - accuracy: 0.8952 - loss: 0.3045\n",
      "Epoch 56/100\n",
      "4/4 - 0s - 12ms/step - accuracy: 0.9143 - loss: 0.2560\n",
      "Epoch 57/100\n",
      "4/4 - 0s - 13ms/step - accuracy: 0.9143 - loss: 0.2503\n",
      "Epoch 58/100\n",
      "4/4 - 0s - 13ms/step - accuracy: 0.8952 - loss: 0.2778\n",
      "Epoch 59/100\n",
      "4/4 - 0s - 13ms/step - accuracy: 0.9048 - loss: 0.2977\n",
      "Epoch 60/100\n",
      "4/4 - 0s - 14ms/step - accuracy: 0.9238 - loss: 0.2509\n",
      "Epoch 61/100\n",
      "4/4 - 0s - 14ms/step - accuracy: 0.9143 - loss: 0.2673\n",
      "Epoch 62/100\n",
      "4/4 - 0s - 13ms/step - accuracy: 0.9048 - loss: 0.2668\n",
      "Epoch 63/100\n",
      "4/4 - 0s - 14ms/step - accuracy: 0.9143 - loss: 0.2705\n",
      "Epoch 64/100\n",
      "4/4 - 0s - 15ms/step - accuracy: 0.9524 - loss: 0.2089\n",
      "Epoch 65/100\n",
      "4/4 - 0s - 14ms/step - accuracy: 0.9333 - loss: 0.2481\n",
      "Epoch 66/100\n",
      "4/4 - 0s - 14ms/step - accuracy: 0.9333 - loss: 0.2411\n",
      "Epoch 67/100\n",
      "4/4 - 0s - 13ms/step - accuracy: 0.9238 - loss: 0.2209\n",
      "Epoch 68/100\n",
      "4/4 - 0s - 14ms/step - accuracy: 0.9143 - loss: 0.2495\n",
      "Epoch 69/100\n",
      "4/4 - 0s - 13ms/step - accuracy: 0.9238 - loss: 0.2169\n",
      "Epoch 70/100\n",
      "4/4 - 0s - 14ms/step - accuracy: 0.9619 - loss: 0.1906\n",
      "Epoch 71/100\n",
      "4/4 - 0s - 13ms/step - accuracy: 0.9429 - loss: 0.2139\n",
      "Epoch 72/100\n",
      "4/4 - 0s - 14ms/step - accuracy: 0.9143 - loss: 0.2543\n",
      "Epoch 73/100\n",
      "4/4 - 0s - 14ms/step - accuracy: 0.9048 - loss: 0.2154\n",
      "Epoch 74/100\n",
      "4/4 - 0s - 13ms/step - accuracy: 0.9524 - loss: 0.1949\n",
      "Epoch 75/100\n",
      "4/4 - 0s - 14ms/step - accuracy: 0.9333 - loss: 0.2370\n",
      "Epoch 76/100\n",
      "4/4 - 0s - 13ms/step - accuracy: 0.9524 - loss: 0.1782\n",
      "Epoch 77/100\n",
      "4/4 - 0s - 13ms/step - accuracy: 0.9524 - loss: 0.2001\n",
      "Epoch 78/100\n",
      "4/4 - 0s - 14ms/step - accuracy: 0.9524 - loss: 0.1940\n",
      "Epoch 79/100\n",
      "4/4 - 0s - 13ms/step - accuracy: 0.9143 - loss: 0.2118\n",
      "Epoch 80/100\n",
      "4/4 - 0s - 13ms/step - accuracy: 0.9619 - loss: 0.2028\n",
      "Epoch 81/100\n",
      "4/4 - 0s - 13ms/step - accuracy: 0.9524 - loss: 0.1855\n",
      "Epoch 82/100\n",
      "4/4 - 0s - 14ms/step - accuracy: 0.9524 - loss: 0.1716\n",
      "Epoch 83/100\n",
      "4/4 - 0s - 13ms/step - accuracy: 0.9714 - loss: 0.1594\n",
      "Epoch 84/100\n",
      "4/4 - 0s - 13ms/step - accuracy: 0.9524 - loss: 0.1792\n",
      "Epoch 85/100\n",
      "4/4 - 0s - 13ms/step - accuracy: 0.9524 - loss: 0.1948\n",
      "Epoch 86/100\n",
      "4/4 - 0s - 13ms/step - accuracy: 0.9429 - loss: 0.2008\n",
      "Epoch 87/100\n",
      "4/4 - 0s - 13ms/step - accuracy: 0.9429 - loss: 0.1738\n",
      "Epoch 88/100\n",
      "4/4 - 0s - 13ms/step - accuracy: 0.9714 - loss: 0.1475\n",
      "Epoch 89/100\n",
      "4/4 - 0s - 13ms/step - accuracy: 0.9714 - loss: 0.1513\n",
      "Epoch 90/100\n",
      "4/4 - 0s - 13ms/step - accuracy: 0.9524 - loss: 0.1959\n",
      "Epoch 91/100\n",
      "4/4 - 0s - 15ms/step - accuracy: 0.9524 - loss: 0.1587\n",
      "Epoch 92/100\n",
      "4/4 - 0s - 17ms/step - accuracy: 0.9429 - loss: 0.1872\n",
      "Epoch 93/100\n",
      "4/4 - 0s - 15ms/step - accuracy: 0.9429 - loss: 0.1574\n",
      "Epoch 94/100\n",
      "4/4 - 0s - 13ms/step - accuracy: 0.9524 - loss: 0.1766\n",
      "Epoch 95/100\n",
      "4/4 - 0s - 13ms/step - accuracy: 0.9714 - loss: 0.1483\n",
      "Epoch 96/100\n",
      "4/4 - 0s - 12ms/step - accuracy: 0.9714 - loss: 0.1377\n",
      "Epoch 97/100\n",
      "4/4 - 0s - 13ms/step - accuracy: 0.9714 - loss: 0.1546\n",
      "Epoch 98/100\n",
      "4/4 - 0s - 13ms/step - accuracy: 0.9524 - loss: 0.1930\n",
      "Epoch 99/100\n",
      "4/4 - 0s - 13ms/step - accuracy: 0.9619 - loss: 0.1520\n",
      "Epoch 100/100\n",
      "4/4 - 0s - 13ms/step - accuracy: 0.9619 - loss: 0.1378\n"
     ]
    },
    {
     "data": {
      "text/plain": [
       "<keras.src.callbacks.history.History at 0x1ab472b3210>"
      ]
     },
     "execution_count": 39,
     "metadata": {},
     "output_type": "execute_result"
    }
   ],
   "source": [
    "#epochs is how many training passes to do over entire training set\n",
    "model.fit(x_train, y_train, epochs=100, verbose=2)  "
   ]
  },
  {
   "cell_type": "markdown",
   "metadata": {},
   "source": [
    "# Now lets use our test dataset to check our model"
   ]
  },
  {
   "cell_type": "code",
   "execution_count": null,
   "metadata": {},
   "outputs": [
    {
     "name": "stdout",
     "output_type": "stream",
     "text": [
      "\u001b[1m2/2\u001b[0m \u001b[32m━━━━━━━━━━━━━━━━━━━━\u001b[0m\u001b[37m\u001b[0m \u001b[1m0s\u001b[0m 22ms/step\n",
      "Prediction: [0 2 2 0 1]\n",
      "Real values\n",
      " 22     0\n",
      "138    2\n",
      "130    2\n",
      "37     0\n",
      "52     1\n",
      "Name: species, dtype: int64\n"
     ]
    }
   ],
   "source": [
    "#make predictions with our model about the test data\n",
    "prediction = model.predict(x_test)\n",
    "\n",
    "#convert the predictions from matrix of percentage likelihoods for each class\n",
    "#into numerical class value for each x (0, 1, or 2)\n",
    "prediction = np.argmax(prediction, axis=-1)\n",
    "\n",
    "#let's see some of our predictions compared to the real values\n",
    "print(\"Prediction:\", prediction[:5])\n",
    "print (\"Real values:\\n\", y_test[:5])"
   ]
  },
  {
   "cell_type": "markdown",
   "metadata": {},
   "source": [
    "## Let's check some analysis of how well the model performs"
   ]
  },
  {
   "cell_type": "code",
   "execution_count": null,
   "metadata": {},
   "outputs": [
    {
     "name": "stdout",
     "output_type": "stream",
     "text": [
      "Accuracy Score: 0.9555555555555556\n",
      "Confusion Matrix:\n",
      " [[17  0  0]\n",
      " [ 0 13  1]\n",
      " [ 0  1 13]]\n"
     ]
    },
    {
     "data": {
      "text/plain": [
       "Text(50.722222222222214, 0.5, 'Pctual')"
      ]
     },
     "execution_count": 59,
     "metadata": {},
     "output_type": "execute_result"
    },
    {
     "data": {
      "image/png": "[encoded data removed]",
      "text/plain": [
       "<Figure size 640x480 with 2 Axes>"
      ]
     },
     "metadata": {},
     "output_type": "display_data"
    }
   ],
   "source": [
    "from sklearn.metrics import accuracy_score, confusion_matrix\n",
    "\n",
    "#get accuracy score\n",
    "print(\"Accuracy Score:\", accuracy_score(y_test, prediction))\n",
    "\n",
    "#get confusion matrix\n",
    "cm = confusion_matrix(y_test, prediction)\n",
    "print(\"Confusion Matrix:\\n\", cm)\n",
    "\n",
    "#make a heatmap of confusion matrix predictions\n",
    "ax = sns.heatmap(cm, annot=True, fmt='d', cmap='Reds', xticklabels=species_name, yticklabels=species_name)\n",
    "ax.set_title('Confusion Matrix for Iris Data Predictions')\n",
    "ax.set_xlabel('Prediction', fontsize=14)\n",
    "ax.set_ylabel('Actual', fontsize=14)"
   ]
  }
 ],
 "metadata": {
  "kernelspec": {
   "display_name": "Python 3",
   "language": "python",
   "name": "python3"
  },
  "language_info": {
   "codemirror_mode": {
    "name": "ipython",
    "version": 3
   },
   "file_extension": ".py",
   "mimetype": "text/x-python",
   "name": "python",
   "nbconvert_exporter": "python",
   "pygments_lexer": "ipython3",
   "version": "3.11.9"
  }
 },
 "nbformat": 4,
 "nbformat_minor": 2
}
